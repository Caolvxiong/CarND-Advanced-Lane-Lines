{
 "cells": [
  {
   "cell_type": "raw",
   "metadata": {},
   "source": [
    "Steps:\n",
    "1. Compute the camera calibration matrix and distortion coefficients given a set of chessboard images.\n",
    "2. Apply a distortion correction to raw images.\n",
    "3. Use color transforms, gradients, etc., to create a thresholded binary image.\n",
    "4. Apply a perspective transform to rectify binary image (\"birds-eye view\").\n",
    "5. Detect lane pixels and fit to find the lane boundary.\n",
    "6. Determine the curvature of the lane and vehicle position with respect to center.\n",
    "7. Warp the detected lane boundaries back onto the original image.\n",
    "8. Output visual display of the lane boundaries and numerical estimation of lane curvature and vehicle position."
   ]
  },
  {
   "cell_type": "markdown",
   "metadata": {},
   "source": [
    "## 1. Compute the camera calibration matrix and distortion coefficients given a set of chessboard images."
   ]
  },
  {
   "cell_type": "code",
   "execution_count": 17,
   "metadata": {},
   "outputs": [],
   "source": [
    "import pickle\n",
    "import cv2\n",
    "import glob\n",
    "import os\n",
    "import numpy as np\n",
    "import matplotlib.pyplot as plt\n",
    "import matplotlib.image as mpimg"
   ]
  },
  {
   "cell_type": "code",
   "execution_count": 18,
   "metadata": {},
   "outputs": [],
   "source": [
    "# Define a function to generate mtx and dist\n",
    "def cal_undist_params(read_path='camera_cal', out_path='output_images'):\n",
    "    objpoints = [] # 3D points in real world space\n",
    "    imgpoints = [] # 2D points in image plane\n",
    "\n",
    "    # prepare object points, eg: (0,0,0,), (1,0,0), (2,0,0)\n",
    "    objp = np.zeros((6*9,3), np.float32)\n",
    "    objp [:,:2] = np.mgrid[0:9,0:6].T.reshape(-1,2) #x, y coordinates\n",
    "\n",
    "    for file_name in os.listdir(read_path):\n",
    "        # Read in each image in camera_cal folder\n",
    "        image = mpimg.imread(os.path.join(read_path , file_name))\n",
    "        # Convert to grayscale\n",
    "        gray = cv2.cvtColor(image,cv2.COLOR_BGR2GRAY)\n",
    "        # Find corners\n",
    "        ret, corners = cv2.findChessboardCorners(gray, (9,6), None)\n",
    "\n",
    "        if ret == True:\n",
    "            imgpoints.append(corners)\n",
    "            objpoints.append(objp)\n",
    "\n",
    "    # Calibrate each image\n",
    "    for file_name in os.listdir(read_path):\n",
    "        # Read in each image in camera_cal folder\n",
    "        image = mpimg.imread(os.path.join(read_path , file_name))\n",
    "        out_image = np.copy(image)\n",
    "        gray_out_image = cv2.cvtColor(out_image,cv2.COLOR_BGR2GRAY)\n",
    "        # Perform the camera calibration\n",
    "        ret, mtx, dist, rvecs, tvecs = cv2.calibrateCamera(objpoints, imgpoints, gray_out_image.shape[::-1], None, None)\n",
    "        # Undistort image\n",
    "        undist = cv2.undistort(gray_out_image, mtx, dist, None, mtx)\n",
    "        # Write to output folder\n",
    "        cv2.imwrite(os.path.join(out_path , file_name), undist)\n",
    "        \n",
    "        \n",
    "    return mtx, dist\n"
   ]
  },
  {
   "cell_type": "markdown",
   "metadata": {},
   "source": [
    "## 2. Apply a distortion correction to raw images."
   ]
  },
  {
   "cell_type": "code",
   "execution_count": 19,
   "metadata": {},
   "outputs": [],
   "source": [
    "mtx, dist = cal_undist_params('camera_cal', 'output_images')\n",
    "\n",
    "def undist_img_in_folder(mtx, dist, read_path='test_images', out_path='output_images'):\n",
    "    for file_name in os.listdir(read_path):\n",
    "        undist = undist_single_img(mtx, dist, file_name, out_path)\n",
    "    return \n",
    "     \n",
    "def undist_single_img(mtx, dist, file_name, out_path='output_images'):\n",
    "    # Read in each image in camera_cal folder\n",
    "    image = mpimg.imread(file_name)\n",
    "    # Undistort image\n",
    "    undist = cv2.undistort(image, mtx, dist, None, mtx)\n",
    "    # Write to output folder\n",
    "    cv2.imwrite(os.path.join(out_path , file_name), undist)\n",
    "    \n",
    "    return undist\n",
    "       "
   ]
  },
  {
   "cell_type": "markdown",
   "metadata": {},
   "source": [
    "## 3. Use color transforms, gradients, etc., to create a thresholded binary image."
   ]
  },
  {
   "cell_type": "code",
   "execution_count": 51,
   "metadata": {},
   "outputs": [],
   "source": [
    "# Calculate directional gradient and apply threshold\n",
    "def abs_sobel_thresh(image, orient='x', sobel_kernel=3, threshold=(20, 100)):\n",
    "    thresh_min = threshold[0]\n",
    "    thresh_max = threshold[1]\n",
    "    gray = cv2.cvtColor(image, cv2.COLOR_RGB2GRAY)\n",
    "    \n",
    "    # Take the derivative in x or y given orient = 'x' or 'y'\n",
    "    if orient == 'x':\n",
    "        sobel = cv2.Sobel(gray, cv2.CV_64F, 1, 0)\n",
    "    if orient == 'y':\n",
    "        sobel = cv2.Sobel(gray, cv2.CV_64F, 0, 1)\n",
    "            \n",
    "    # Take the absolute value of the derivative or gradient\n",
    "    abs_sobel = np.absolute(sobel)\n",
    "    # Scale to 8-bit (0 - 255) and convert to type = np.uint8\n",
    "    scaled_sobel = np.uint8(255*abs_sobel/np.max(abs_sobel))\n",
    "\n",
    "    grad_binary = np.zeros_like(scaled_sobel)\n",
    "    grad_binary[(scaled_sobel >= thresh_min) & (scaled_sobel <= thresh_max)] = 1\n",
    "    \n",
    "    return grad_binary\n",
    "\n",
    "# Calculate gradient magnitude and apply threshold\n",
    "def mag_thresh(image, sobel_kernel=9, mag_threshold=(30, 100)):\n",
    "    gray = cv2.cvtColor(image, cv2.COLOR_RGB2GRAY)\n",
    "    \n",
    "    # Take the gradient in x and y separately\n",
    "    abs_sobelx = cv2.Sobel(gray, cv2.CV_64F, 1, 0, ksize=sobel_kernel)\n",
    "    abs_sobely = cv2.Sobel(gray, cv2.CV_64F, 0, 1, ksize=sobel_kernel)\n",
    "    \n",
    "    # Calculate the magnitude \n",
    "    gradmag = np.sqrt(abs_sobelx**2 + abs_sobely**2)\n",
    "    \n",
    "    # Scale to 8-bit (0 - 255) and convert to type = np.uint8\n",
    "    scaled_sobel = (255*gradmag/np.max(gradmag)).astype(np.uint8) \n",
    "\n",
    "    mag_binary = np.zeros_like(scaled_sobel)\n",
    "    mag_binary[(scaled_sobel >= mag_threshold[0]) & (scaled_sobel <= mag_threshold[1])] = 1\n",
    "    \n",
    "    return mag_binary\n",
    "\n",
    "# Calculate gradient direction and apply threshold\n",
    "def dir_threshold(image, sobel_kernel=3, threshold=(0.7, 1.3)):\n",
    "    gray = cv2.cvtColor(image, cv2.COLOR_RGB2GRAY)\n",
    "    # Take the gradient in x and y separately and take the absolute value of them\n",
    "    sobelx = np.absolute(cv2.Sobel(gray, cv2.CV_64F, 1, 0, ksize=sobel_kernel))\n",
    "    sobely = np.absolute(cv2.Sobel(gray, cv2.CV_64F, 0, 1, ksize=sobel_kernel))\n",
    "    \n",
    "    # Calculate the direction of the gradient \n",
    "    absgraddir = np.arctan2(sobely, sobelx)\n",
    "\n",
    "    #Create a binary mask where direction thresholds are met\n",
    "    dir_binary = np.zeros_like(absgraddir)\n",
    "    dir_binary[(absgraddir >= threshold[0]) & (absgraddir <= threshold[1])] = 1\n",
    "    \n",
    "    return dir_binary\n",
    "\n",
    "# Define a function that thresholds the S-channel of HLS\n",
    "def hls_select(image, threshold=(170, 255)):\n",
    "    # Convert to HLS color space\n",
    "    hls = cv2.cvtColor(image, cv2.COLOR_RGB2HLS)\n",
    "    H = hls[:,:,0]\n",
    "    L = hls[:,:,1]\n",
    "    S = hls[:,:,2]\n",
    "    \n",
    "    # Apply a threshold to the S channel\n",
    "    color_binary = np.zeros_like(S)\n",
    "    color_binary[(S > threshold[0]) & (S <= threshold[1])] = 1\n",
    "    \n",
    "    return color_binary"
   ]
  },
  {
   "cell_type": "code",
   "execution_count": 91,
   "metadata": {},
   "outputs": [
    {
     "data": {
      "text/plain": [
       "<matplotlib.image.AxesImage at 0x7f595d995eb8>"
      ]
     },
     "execution_count": 91,
     "metadata": {},
     "output_type": "execute_result"
    },
    {
     "data": {
      "image/png": "[encoded data removed]",
      "text/plain": [
       "<matplotlib.figure.Figure at 0x7f595d9df5f8>"
      ]
     },
     "metadata": {},
     "output_type": "display_data"
    }
   ],
   "source": [
    "file_name = 'test_images/test2.jpg'\n",
    "# Undistort raw images\n",
    "undist = correct_single_img(mtx, dist, file_name, 'output_images')\n",
    "\n",
    "def pipeline(undist, s_thresh=(170, 255), sx_thresh=(20, 100)):\n",
    "    img = np.copy(undist)\n",
    "    # Convert to HLS color space and separate the V channel\n",
    "    hls = cv2.cvtColor(img, cv2.COLOR_RGB2HLS)\n",
    "    l_channel = hls[:,:,1]\n",
    "    s_channel = hls[:,:,2]\n",
    "    \n",
    "    # Choose a Sobel kernel size\n",
    "    ksize = 9\n",
    "\n",
    "    # Apply each of the thresholding functions\n",
    "    gradx = abs_sobel_thresh(undist, orient='x', sobel_kernel=ksize, threshold=(20, 100))\n",
    "    grady = abs_sobel_thresh(undist, orient='y', sobel_kernel=ksize, threshold=(20, 100))\n",
    "    mag_binary = mag_thresh(undist, sobel_kernel=ksize, mag_threshold=(30, 100))\n",
    "    dir_binary = dir_threshold(undist, sobel_kernel=ksize, threshold=(0.7, 1.3))\n",
    "    color_binary = hls_select(undist, threshold=(150, 255))\n",
    "\n",
    "    combined = np.zeros_like(dir_binary)\n",
    "    combined[((gradx == 1) & (grady == 1)) | ((mag_binary == 1) & (dir_binary == 1)) | color_binary == 1 ] = 1\n",
    "\n",
    "    return combined\n",
    "\n",
    "combined = pipeline(undist, (170, 255), (20, 100))\n",
    "plt.imshow(combined)\n",
    "\n"
   ]
  },
  {
   "cell_type": "markdown",
   "metadata": {},
   "source": [
    "## 4. Apply a perspective transform to rectify binary image (\"birds-eye view\")."
   ]
  },
  {
   "cell_type": "code",
   "execution_count": 118,
   "metadata": {},
   "outputs": [],
   "source": [
    "def warp(image):\n",
    "    image_size = (image.shape[1], image.shape[0])\n",
    "    imshape = image.shape\n",
    "\n",
    "    src = np.float32([[1180,720],[700, 440], [570, 440], [260,720]])\n",
    "    dst = np.float32([[1280,720],[1280,0],[0,0],[0,720]])\n",
    "    \n",
    "    M = cv2.getPerspectiveTransform(src, dst)\n",
    "    warped = cv2.warpPerspective(image, M, image_size, flags=cv2.INTER_LINEAR)\n",
    "\n",
    "    return warped"
   ]
  },
  {
   "cell_type": "code",
   "execution_count": 119,
   "metadata": {},
   "outputs": [
    {
     "data": {
      "text/plain": [
       "<matplotlib.image.AxesImage at 0x7f595d420278>"
      ]
     },
     "execution_count": 119,
     "metadata": {},
     "output_type": "execute_result"
    },
    {
     "data": {
      "image/png": "[encoded data removed]",
      "text/plain": [
       "<matplotlib.figure.Figure at 0x7f595d498e10>"
      ]
     },
     "metadata": {},
     "output_type": "display_data"
    }
   ],
   "source": [
    "warped = warp(combined)\n",
    "plt.imshow(warped)\n"
   ]
  },
  {
   "cell_type": "code",
   "execution_count": null,
   "metadata": {},
   "outputs": [],
   "source": []
  }
 ],
 "metadata": {
  "kernelspec": {
   "display_name": "Python 3",
   "language": "python",
   "name": "python3"
  },
  "language_info": {
   "codemirror_mode": {
    "name": "ipython",
    "version": 3
   },
   "file_extension": ".py",
   "mimetype": "text/x-python",
   "name": "python",
   "nbconvert_exporter": "python",
   "pygments_lexer": "ipython3",
   "version": "3.6.3"
  }
 },
 "nbformat": 4,
 "nbformat_minor": 2
}
